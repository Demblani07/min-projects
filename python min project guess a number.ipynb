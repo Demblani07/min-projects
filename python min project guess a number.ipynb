{
 "cells": [
  {
   "cell_type": "code",
   "execution_count": 2,
   "id": "e791a589",
   "metadata": {},
   "outputs": [
    {
     "name": "stdout",
     "output_type": "stream",
     "text": [
      "Type a number: 5\n",
      "Make a guess: 4\n",
      "You were below the number\n",
      "Make a guess: 2\n",
      "You were below the number\n",
      "Make a guess: 3\n",
      "You were below the number\n",
      "Make a guess: 1\n",
      "You were below the number\n",
      "Make a guess: 0\n",
      "You were below the number\n",
      "Make a guess: 1\n",
      "You were below the number\n",
      "Make a guess: 2\n",
      "You were below the number\n",
      "Make a guess: 3\n",
      "You were below the number\n",
      "Make a guess: 4\n",
      "You were below the number\n",
      "Make a guess: 5\n",
      "You got it!\n",
      "You got it in 10 guesses\n"
     ]
    }
   ],
   "source": [
    "import random\n",
    "\n",
    "top_of_range = input(\"Type a number: \")\n",
    "\n",
    "if top_of_range.isdigit():\n",
    "    top_of_range= int(top_of_range)\n",
    "    \n",
    "    if top_of_range<=0:\n",
    "        print('Please type a number largest than 0 next time.')\n",
    "        quit()\n",
    "else:\n",
    "    print('Please type a number next time.')\n",
    "    quit()\n",
    "    \n",
    "random_number = random.randint(0,top_of_range)\n",
    "guesses = 0\n",
    "\n",
    "while True:\n",
    "    guesses +=1 \n",
    "    user_guess = input('Make a guess: ')\n",
    "    \n",
    "    if user_guess.isdigit():\n",
    "        user_guess= int(user_guess)\n",
    "    \n",
    "    else:\n",
    "        print('Please type a number next time.')\n",
    "        continue\n",
    "    if user_guess == random_number:\n",
    "        print(\"You got it!\")\n",
    "        break\n",
    "    \n",
    "    elif user_guess > random_number:\n",
    "            print(\"You were above the number\")\n",
    "    else:\n",
    "        print(\"You were below the number\")\n",
    "\n",
    "print(f\"You got it in {guesses} guesses\")"
   ]
  },
  {
   "cell_type": "code",
   "execution_count": null,
   "id": "c114a69e",
   "metadata": {},
   "outputs": [],
   "source": []
  }
 ],
 "metadata": {
  "hide_input": false,
  "kernelspec": {
   "display_name": "Python 3 (ipykernel)",
   "language": "python",
   "name": "python3"
  },
  "language_info": {
   "codemirror_mode": {
    "name": "ipython",
    "version": 3
   },
   "file_extension": ".py",
   "mimetype": "text/x-python",
   "name": "python",
   "nbconvert_exporter": "python",
   "pygments_lexer": "ipython3",
   "version": "3.11.5"
  }
 },
 "nbformat": 4,
 "nbformat_minor": 5
}
